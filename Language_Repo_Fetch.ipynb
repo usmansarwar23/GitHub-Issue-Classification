{
 "cells": [
  {
   "cell_type": "code",
   "execution_count": 10,
   "metadata": {},
   "outputs": [],
   "source": [
    "import pandas as pd\n",
    "import requests as req\n",
    "from tqdm import tqdm"
   ]
  },
  {
   "cell_type": "code",
   "execution_count": 12,
   "metadata": {},
   "outputs": [],
   "source": [
    "#github api credentials\n",
    "client_secret=''\n",
    "client_id=''\n",
    "\n",
    "language_repo_count_df=pd.read_csv(\"dataset\\\\language_repo_count.csv\")"
   ]
  },
  {
   "cell_type": "code",
   "execution_count": 13,
   "metadata": {},
   "outputs": [],
   "source": [
    "#languages that we dont consider to be general programming languages\n",
    "not_languages=['CSS','HTML','Shell','Makefile','Batchfile','ApacheConf','CMake','PowerShell','XSLT','TeX']\n",
    "#lets remove them from our list and just keep top 17 \n",
    "#seems like a arbitrary number though\n",
    "language_repo_count_df=language_repo_count_df[~language_repo_count_df['name'].isin(not_languages)][:17].reset_index(drop=True)"
   ]
  },
  {
   "cell_type": "markdown",
   "metadata": {},
   "source": [
    "# Fetching the Top Repos of each Language"
   ]
  },
  {
   "cell_type": "code",
   "execution_count": 14,
   "metadata": {},
   "outputs": [
    {
     "name": "stdout",
     "output_type": "stream",
     "text": [
      "Directory  language_stats  already exists\n"
     ]
    }
   ],
   "source": [
    "#Create target Directory if don't exist\n",
    "import os\n",
    "dirName='language_stats'\n",
    "if not os.path.exists(dirName):\n",
    "    os.mkdir(dirName)\n",
    "    print(\"Directory \" , dirName ,  \" Created \")\n",
    "else:    \n",
    "    print(\"Directory \" , dirName ,  \" already exists\")"
   ]
  },
  {
   "cell_type": "code",
   "execution_count": 15,
   "metadata": {},
   "outputs": [
    {
     "name": "stderr",
     "output_type": "stream",
     "text": [
      "100%|██████████████████████████████████████████████████████████████████████████████████| 17/17 [00:50<00:00,  2.98s/it]\n"
     ]
    }
   ],
   "source": [
    "#fetch top projects by stars\n",
    "repo_count=100\n",
    "\n",
    "\n",
    "for language in tqdm(language_repo_count_df['name']):\n",
    "    f = {'project_name': [], 'stargazers_count': []}\n",
    "    r = req.get('https://api.github.com/search/repositories?q=language:'+req.compat.quote_plus(str(language))+'&sort=stars&order=desc&per_page='+str(repo_count)+'&client_id='+str(client_id)+'&client_secret='+str(client_secret))\n",
    "    for obj in r.json()['items']:\n",
    "        try:\n",
    "            f['project_name'].append(str(obj['full_name']))\n",
    "            f['stargazers_count'].append(str(obj['stargazers_count']))\n",
    "        except:\n",
    "            print(\"Couldnt find stargazer count\")\n",
    "        pd.DataFrame(data=f).to_csv('language_stats//'+str(language)+'.csv',index=False)"
   ]
  },
  {
   "cell_type": "code",
   "execution_count": 16,
   "metadata": {},
   "outputs": [],
   "source": [
    "\n",
    "language_project_dict = {'Language': [], 'Projects': []}\n",
    "\n",
    "count=0\n",
    "for language in language_repo_count_df['name']:\n",
    "    try:\n",
    "        temp=pd.read_csv('language_stats/'+language+'.csv')\n",
    "        language_project_dict['Language'].append(language)\n",
    "        language_project_dict['Projects'].append(' , '.join(temp[:3].values[:,0]))\n",
    "    except:\n",
    "        count=count+1\n",
    "print(count)\n",
    "\n",
    "#only have the top 3 projects\n",
    "pd.DataFrame(data=language_project_dict).to_csv(\"dataset//language_project.csv\")\n"
   ]
  },
  {
   "cell_type": "code",
   "execution_count": 18,
   "metadata": {},
   "outputs": [
    {
     "name": "stdout",
     "output_type": "stream",
     "text": [
      "0\n"
     ]
    }
   ],
   "source": []
  },
  {
   "cell_type": "code",
   "execution_count": 19,
   "metadata": {},
   "outputs": [],
   "source": []
  },
  {
   "cell_type": "code",
   "execution_count": null,
   "metadata": {},
   "outputs": [],
   "source": []
  },
  {
   "cell_type": "code",
   "execution_count": null,
   "metadata": {},
   "outputs": [],
   "source": []
  }
 ],
 "metadata": {
  "kernelspec": {
   "display_name": "Python 3",
   "language": "python",
   "name": "python3"
  },
  "language_info": {
   "codemirror_mode": {
    "name": "ipython",
    "version": 3
   },
   "file_extension": ".py",
   "mimetype": "text/x-python",
   "name": "python",
   "nbconvert_exporter": "python",
   "pygments_lexer": "ipython3",
   "version": "3.7.4"
  }
 },
 "nbformat": 4,
 "nbformat_minor": 4
}
